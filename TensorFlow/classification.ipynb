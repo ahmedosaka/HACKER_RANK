{
  "nbformat": 4,
  "nbformat_minor": 0,
  "metadata": {
    "colab": {
      "name": "Untitled2.ipynb",
      "provenance": [],
      "authorship_tag": "ABX9TyNGKs/HF7vNKvs2SmxrCOGz",
      "include_colab_link": true
    },
    "kernelspec": {
      "name": "python3",
      "display_name": "Python 3"
    },
    "language_info": {
      "name": "python"
    }
  },
  "cells": [
    {
      "cell_type": "markdown",
      "metadata": {
        "id": "view-in-github",
        "colab_type": "text"
      },
      "source": [
        "<a href=\"https://colab.research.google.com/github/ahmedosaka/snippets/blob/add-license-1/TensorFlow/classification.ipynb\" target=\"_parent\"><img src=\"https://colab.research.google.com/assets/colab-badge.svg\" alt=\"Open In Colab\"/></a>"
      ]
    },
    {
      "cell_type": "code",
      "metadata": {
        "colab": {
          "base_uri": "https://localhost:8080/"
        },
        "id": "OHKJRIPiWNns",
        "outputId": "33dab01f-4532-4423-a2c9-6e1c6495a2bd"
      },
      "source": [
        "%tensorflow_version 2.x  # this line is not required unless you are in a notebook"
      ],
      "execution_count": 1,
      "outputs": [
        {
          "output_type": "stream",
          "text": [
            "`%tensorflow_version` only switches the major version: 1.x or 2.x.\n",
            "You set: `2.x  # this line is not required unless you are in a notebook`. This will be interpreted as: `2.x`.\n",
            "\n",
            "\n",
            "TensorFlow 2.x selected.\n"
          ],
          "name": "stdout"
        }
      ]
    },
    {
      "cell_type": "code",
      "metadata": {
        "id": "GjV1KPnAiVpF"
      },
      "source": [
        "from __future__ import absolute_import, division, print_function, unicode_literals\n",
        "\n",
        "\n",
        "import tensorflow as tf\n",
        "\n",
        "import pandas as pd"
      ],
      "execution_count": 2,
      "outputs": []
    },
    {
      "cell_type": "code",
      "metadata": {
        "id": "h948O3GFiXfD"
      },
      "source": [
        "CSV_COLUMN_NAMES = ['SepalLength', 'SepalWidth', 'PetalLength', 'PetalWidth', 'Species']\n",
        "SPECIES = ['Setosa', 'Versicolor', 'Virginica']\n",
        "# Lets define some constants to help us later on"
      ],
      "execution_count": 3,
      "outputs": []
    },
    {
      "cell_type": "code",
      "metadata": {
        "colab": {
          "base_uri": "https://localhost:8080/"
        },
        "id": "jCWgWQk6ia1T",
        "outputId": "2944fa00-974c-493f-c073-9a98d6ee13a8"
      },
      "source": [
        "train_path = tf.keras.utils.get_file(\n",
        "    \"iris_training.csv\", \"https://storage.googleapis.com/download.tensorflow.org/data/iris_training.csv\")\n",
        "test_path = tf.keras.utils.get_file(\n",
        "    \"iris_test.csv\", \"https://storage.googleapis.com/download.tensorflow.org/data/iris_test.csv\")\n",
        "\n",
        "train = pd.read_csv(train_path, names=CSV_COLUMN_NAMES, header=0)\n",
        "test = pd.read_csv(test_path, names=CSV_COLUMN_NAMES, header=0)\n",
        "# Here we use keras (a module inside of TensorFlow) to grab our datasets and read them into a pandas dataframe"
      ],
      "execution_count": 4,
      "outputs": [
        {
          "output_type": "stream",
          "text": [
            "Downloading data from https://storage.googleapis.com/download.tensorflow.org/data/iris_training.csv\n",
            "8192/2194 [================================================================================================================] - 0s 0us/step\n",
            "Downloading data from https://storage.googleapis.com/download.tensorflow.org/data/iris_test.csv\n",
            "8192/573 [============================================================================================================================================================================================================================================================================================================================================================================================================================================] - 0s 0us/step\n"
          ],
          "name": "stdout"
        }
      ]
    },
    {
      "cell_type": "code",
      "metadata": {
        "colab": {
          "base_uri": "https://localhost:8080/",
          "height": 204
        },
        "id": "uYEditK5iccG",
        "outputId": "c00ab34e-18ea-45cb-a1fe-bf6d768ce056"
      },
      "source": [
        "train.head()"
      ],
      "execution_count": 5,
      "outputs": [
        {
          "output_type": "execute_result",
          "data": {
            "text/html": [
              "<div>\n",
              "<style scoped>\n",
              "    .dataframe tbody tr th:only-of-type {\n",
              "        vertical-align: middle;\n",
              "    }\n",
              "\n",
              "    .dataframe tbody tr th {\n",
              "        vertical-align: top;\n",
              "    }\n",
              "\n",
              "    .dataframe thead th {\n",
              "        text-align: right;\n",
              "    }\n",
              "</style>\n",
              "<table border=\"1\" class=\"dataframe\">\n",
              "  <thead>\n",
              "    <tr style=\"text-align: right;\">\n",
              "      <th></th>\n",
              "      <th>SepalLength</th>\n",
              "      <th>SepalWidth</th>\n",
              "      <th>PetalLength</th>\n",
              "      <th>PetalWidth</th>\n",
              "      <th>Species</th>\n",
              "    </tr>\n",
              "  </thead>\n",
              "  <tbody>\n",
              "    <tr>\n",
              "      <th>0</th>\n",
              "      <td>6.4</td>\n",
              "      <td>2.8</td>\n",
              "      <td>5.6</td>\n",
              "      <td>2.2</td>\n",
              "      <td>2</td>\n",
              "    </tr>\n",
              "    <tr>\n",
              "      <th>1</th>\n",
              "      <td>5.0</td>\n",
              "      <td>2.3</td>\n",
              "      <td>3.3</td>\n",
              "      <td>1.0</td>\n",
              "      <td>1</td>\n",
              "    </tr>\n",
              "    <tr>\n",
              "      <th>2</th>\n",
              "      <td>4.9</td>\n",
              "      <td>2.5</td>\n",
              "      <td>4.5</td>\n",
              "      <td>1.7</td>\n",
              "      <td>2</td>\n",
              "    </tr>\n",
              "    <tr>\n",
              "      <th>3</th>\n",
              "      <td>4.9</td>\n",
              "      <td>3.1</td>\n",
              "      <td>1.5</td>\n",
              "      <td>0.1</td>\n",
              "      <td>0</td>\n",
              "    </tr>\n",
              "    <tr>\n",
              "      <th>4</th>\n",
              "      <td>5.7</td>\n",
              "      <td>3.8</td>\n",
              "      <td>1.7</td>\n",
              "      <td>0.3</td>\n",
              "      <td>0</td>\n",
              "    </tr>\n",
              "  </tbody>\n",
              "</table>\n",
              "</div>"
            ],
            "text/plain": [
              "   SepalLength  SepalWidth  PetalLength  PetalWidth  Species\n",
              "0          6.4         2.8          5.6         2.2        2\n",
              "1          5.0         2.3          3.3         1.0        1\n",
              "2          4.9         2.5          4.5         1.7        2\n",
              "3          4.9         3.1          1.5         0.1        0\n",
              "4          5.7         3.8          1.7         0.3        0"
            ]
          },
          "metadata": {
            "tags": []
          },
          "execution_count": 5
        }
      ]
    },
    {
      "cell_type": "code",
      "metadata": {
        "colab": {
          "base_uri": "https://localhost:8080/",
          "height": 204
        },
        "id": "JgsV4hPkidut",
        "outputId": "0d252cb6-3600-4d66-fb0a-f8186a20b70c"
      },
      "source": [
        "train_y = train.pop('Species')\n",
        "test_y = test.pop('Species')\n",
        "train.head() # the species column is now gone"
      ],
      "execution_count": 6,
      "outputs": [
        {
          "output_type": "execute_result",
          "data": {
            "text/html": [
              "<div>\n",
              "<style scoped>\n",
              "    .dataframe tbody tr th:only-of-type {\n",
              "        vertical-align: middle;\n",
              "    }\n",
              "\n",
              "    .dataframe tbody tr th {\n",
              "        vertical-align: top;\n",
              "    }\n",
              "\n",
              "    .dataframe thead th {\n",
              "        text-align: right;\n",
              "    }\n",
              "</style>\n",
              "<table border=\"1\" class=\"dataframe\">\n",
              "  <thead>\n",
              "    <tr style=\"text-align: right;\">\n",
              "      <th></th>\n",
              "      <th>SepalLength</th>\n",
              "      <th>SepalWidth</th>\n",
              "      <th>PetalLength</th>\n",
              "      <th>PetalWidth</th>\n",
              "    </tr>\n",
              "  </thead>\n",
              "  <tbody>\n",
              "    <tr>\n",
              "      <th>0</th>\n",
              "      <td>6.4</td>\n",
              "      <td>2.8</td>\n",
              "      <td>5.6</td>\n",
              "      <td>2.2</td>\n",
              "    </tr>\n",
              "    <tr>\n",
              "      <th>1</th>\n",
              "      <td>5.0</td>\n",
              "      <td>2.3</td>\n",
              "      <td>3.3</td>\n",
              "      <td>1.0</td>\n",
              "    </tr>\n",
              "    <tr>\n",
              "      <th>2</th>\n",
              "      <td>4.9</td>\n",
              "      <td>2.5</td>\n",
              "      <td>4.5</td>\n",
              "      <td>1.7</td>\n",
              "    </tr>\n",
              "    <tr>\n",
              "      <th>3</th>\n",
              "      <td>4.9</td>\n",
              "      <td>3.1</td>\n",
              "      <td>1.5</td>\n",
              "      <td>0.1</td>\n",
              "    </tr>\n",
              "    <tr>\n",
              "      <th>4</th>\n",
              "      <td>5.7</td>\n",
              "      <td>3.8</td>\n",
              "      <td>1.7</td>\n",
              "      <td>0.3</td>\n",
              "    </tr>\n",
              "  </tbody>\n",
              "</table>\n",
              "</div>"
            ],
            "text/plain": [
              "   SepalLength  SepalWidth  PetalLength  PetalWidth\n",
              "0          6.4         2.8          5.6         2.2\n",
              "1          5.0         2.3          3.3         1.0\n",
              "2          4.9         2.5          4.5         1.7\n",
              "3          4.9         3.1          1.5         0.1\n",
              "4          5.7         3.8          1.7         0.3"
            ]
          },
          "metadata": {
            "tags": []
          },
          "execution_count": 6
        }
      ]
    },
    {
      "cell_type": "code",
      "metadata": {
        "colab": {
          "base_uri": "https://localhost:8080/"
        },
        "id": "aB4o15mBigAW",
        "outputId": "ff4b07ca-01df-4885-c729-3f0aa4efda75"
      },
      "source": [
        "train.shape  # we have 120 entires with 4 features"
      ],
      "execution_count": 7,
      "outputs": [
        {
          "output_type": "execute_result",
          "data": {
            "text/plain": [
              "(120, 4)"
            ]
          },
          "metadata": {
            "tags": []
          },
          "execution_count": 7
        }
      ]
    },
    {
      "cell_type": "code",
      "metadata": {
        "id": "R-fzWfSNihg6"
      },
      "source": [
        "def input_fn(features, labels, training=True, batch_size=256):\n",
        "    # Convert the inputs to a Dataset.\n",
        "    dataset = tf.data.Dataset.from_tensor_slices((dict(features), labels))\n",
        "\n",
        "    # Shuffle and repeat if you are in training mode.\n",
        "    if training:\n",
        "        dataset = dataset.shuffle(1000).repeat()\n",
        "    \n",
        "    return dataset.batch(batch_size)\n"
      ],
      "execution_count": 8,
      "outputs": []
    },
    {
      "cell_type": "code",
      "metadata": {
        "colab": {
          "base_uri": "https://localhost:8080/"
        },
        "id": "X-ZAsMgAiksz",
        "outputId": "37850c84-7612-47ec-977d-c1fda1d3e8af"
      },
      "source": [
        "# Feature columns describe how to use the input.\n",
        "my_feature_columns = []\n",
        "for key in train.keys():\n",
        "    my_feature_columns.append(tf.feature_column.numeric_column(key=key))\n",
        "print(my_feature_columns)"
      ],
      "execution_count": 9,
      "outputs": [
        {
          "output_type": "stream",
          "text": [
            "[NumericColumn(key='SepalLength', shape=(1,), default_value=None, dtype=tf.float32, normalizer_fn=None), NumericColumn(key='SepalWidth', shape=(1,), default_value=None, dtype=tf.float32, normalizer_fn=None), NumericColumn(key='PetalLength', shape=(1,), default_value=None, dtype=tf.float32, normalizer_fn=None), NumericColumn(key='PetalWidth', shape=(1,), default_value=None, dtype=tf.float32, normalizer_fn=None)]\n"
          ],
          "name": "stdout"
        }
      ]
    },
    {
      "cell_type": "code",
      "metadata": {
        "colab": {
          "base_uri": "https://localhost:8080/"
        },
        "id": "3zf0xlY5inpb",
        "outputId": "22d205d2-5a1b-434e-8567-49d7c8524ef9"
      },
      "source": [
        "# Build a DNN with 2 hidden layers with 30 and 10 hidden nodes each.\n",
        "classifier = tf.estimator.DNNClassifier(\n",
        "    feature_columns=my_feature_columns,\n",
        "    # Two hidden layers of 30 and 10 nodes respectively.\n",
        "    hidden_units=[30, 10],\n",
        "    # The model must choose between 3 classes.\n",
        "    n_classes=3)"
      ],
      "execution_count": 10,
      "outputs": [
        {
          "output_type": "stream",
          "text": [
            "INFO:tensorflow:Using default config.\n",
            "WARNING:tensorflow:Using temporary folder as model directory: /tmp/tmpey_gcth7\n",
            "INFO:tensorflow:Using config: {'_model_dir': '/tmp/tmpey_gcth7', '_tf_random_seed': None, '_save_summary_steps': 100, '_save_checkpoints_steps': None, '_save_checkpoints_secs': 600, '_session_config': allow_soft_placement: true\n",
            "graph_options {\n",
            "  rewrite_options {\n",
            "    meta_optimizer_iterations: ONE\n",
            "  }\n",
            "}\n",
            ", '_keep_checkpoint_max': 5, '_keep_checkpoint_every_n_hours': 10000, '_log_step_count_steps': 100, '_train_distribute': None, '_device_fn': None, '_protocol': None, '_eval_distribute': None, '_experimental_distribute': None, '_experimental_max_worker_delay_secs': None, '_session_creation_timeout_secs': 7200, '_checkpoint_save_graph_def': True, '_service': None, '_cluster_spec': ClusterSpec({}), '_task_type': 'worker', '_task_id': 0, '_global_id_in_cluster': 0, '_master': '', '_evaluation_master': '', '_is_chief': True, '_num_ps_replicas': 0, '_num_worker_replicas': 1}\n"
          ],
          "name": "stdout"
        }
      ]
    },
    {
      "cell_type": "code",
      "metadata": {
        "colab": {
          "base_uri": "https://localhost:8080/"
        },
        "id": "-LCG_-8-iqj5",
        "outputId": "226351fb-c666-4215-8236-39935cc1758e"
      },
      "source": [
        "classifier.train(\n",
        "    input_fn=lambda: input_fn(train, train_y, training=True),\n",
        "    steps=5000)\n",
        "# We include a lambda to avoid creating an inner function previously"
      ],
      "execution_count": 11,
      "outputs": [
        {
          "output_type": "stream",
          "text": [
            "WARNING:tensorflow:From /usr/local/lib/python3.7/dist-packages/tensorflow/python/training/training_util.py:236: Variable.initialized_value (from tensorflow.python.ops.variables) is deprecated and will be removed in a future version.\n",
            "Instructions for updating:\n",
            "Use Variable.read_value. Variables in 2.X are initialized automatically both in eager and graph (inside tf.defun) contexts.\n",
            "INFO:tensorflow:Calling model_fn.\n",
            "WARNING:tensorflow:From /usr/local/lib/python3.7/dist-packages/tensorflow/python/keras/optimizer_v2/adagrad.py:88: calling Constant.__init__ (from tensorflow.python.ops.init_ops) with dtype is deprecated and will be removed in a future version.\n",
            "Instructions for updating:\n",
            "Call initializer instance with the dtype argument instead of passing it to the constructor\n",
            "INFO:tensorflow:Done calling model_fn.\n",
            "INFO:tensorflow:Create CheckpointSaverHook.\n",
            "INFO:tensorflow:Graph was finalized.\n",
            "INFO:tensorflow:Running local_init_op.\n",
            "INFO:tensorflow:Done running local_init_op.\n",
            "INFO:tensorflow:Calling checkpoint listeners before saving checkpoint 0...\n",
            "INFO:tensorflow:Saving checkpoints for 0 into /tmp/tmpey_gcth7/model.ckpt.\n",
            "INFO:tensorflow:Calling checkpoint listeners after saving checkpoint 0...\n",
            "INFO:tensorflow:loss = 1.624536, step = 0\n",
            "INFO:tensorflow:global_step/sec: 442.143\n",
            "INFO:tensorflow:loss = 1.2673789, step = 100 (0.232 sec)\n",
            "INFO:tensorflow:global_step/sec: 552.444\n",
            "INFO:tensorflow:loss = 1.1734482, step = 200 (0.181 sec)\n",
            "INFO:tensorflow:global_step/sec: 464.092\n",
            "INFO:tensorflow:loss = 1.1356858, step = 300 (0.214 sec)\n",
            "INFO:tensorflow:global_step/sec: 446.22\n",
            "INFO:tensorflow:loss = 1.1048099, step = 400 (0.225 sec)\n",
            "INFO:tensorflow:global_step/sec: 445.829\n",
            "INFO:tensorflow:loss = 1.0871336, step = 500 (0.224 sec)\n",
            "INFO:tensorflow:global_step/sec: 440.897\n",
            "INFO:tensorflow:loss = 1.0790466, step = 600 (0.226 sec)\n",
            "INFO:tensorflow:global_step/sec: 456.092\n",
            "INFO:tensorflow:loss = 1.0706611, step = 700 (0.220 sec)\n",
            "INFO:tensorflow:global_step/sec: 467\n",
            "INFO:tensorflow:loss = 1.0680245, step = 800 (0.215 sec)\n",
            "INFO:tensorflow:global_step/sec: 481.271\n",
            "INFO:tensorflow:loss = 1.0613947, step = 900 (0.209 sec)\n",
            "INFO:tensorflow:global_step/sec: 470.538\n",
            "INFO:tensorflow:loss = 1.0615083, step = 1000 (0.208 sec)\n",
            "INFO:tensorflow:global_step/sec: 537.359\n",
            "INFO:tensorflow:loss = 1.0532405, step = 1100 (0.189 sec)\n",
            "INFO:tensorflow:global_step/sec: 497.701\n",
            "INFO:tensorflow:loss = 1.0487326, step = 1200 (0.203 sec)\n",
            "INFO:tensorflow:global_step/sec: 506.004\n",
            "INFO:tensorflow:loss = 1.0390091, step = 1300 (0.193 sec)\n",
            "INFO:tensorflow:global_step/sec: 447.84\n",
            "INFO:tensorflow:loss = 1.0381424, step = 1400 (0.223 sec)\n",
            "INFO:tensorflow:global_step/sec: 514.661\n",
            "INFO:tensorflow:loss = 1.0357932, step = 1500 (0.195 sec)\n",
            "INFO:tensorflow:global_step/sec: 460.138\n",
            "INFO:tensorflow:loss = 1.0277815, step = 1600 (0.217 sec)\n",
            "INFO:tensorflow:global_step/sec: 486.274\n",
            "INFO:tensorflow:loss = 1.0201963, step = 1700 (0.205 sec)\n",
            "INFO:tensorflow:global_step/sec: 491.664\n",
            "INFO:tensorflow:loss = 1.0179547, step = 1800 (0.207 sec)\n",
            "INFO:tensorflow:global_step/sec: 486.177\n",
            "INFO:tensorflow:loss = 1.0177406, step = 1900 (0.205 sec)\n",
            "INFO:tensorflow:global_step/sec: 528.911\n",
            "INFO:tensorflow:loss = 1.0064814, step = 2000 (0.186 sec)\n",
            "INFO:tensorflow:global_step/sec: 488.568\n",
            "INFO:tensorflow:loss = 1.0034741, step = 2100 (0.205 sec)\n",
            "INFO:tensorflow:global_step/sec: 490.716\n",
            "INFO:tensorflow:loss = 0.9999557, step = 2200 (0.207 sec)\n",
            "INFO:tensorflow:global_step/sec: 507.797\n",
            "INFO:tensorflow:loss = 0.99057734, step = 2300 (0.196 sec)\n",
            "INFO:tensorflow:global_step/sec: 481.804\n",
            "INFO:tensorflow:loss = 0.9867217, step = 2400 (0.205 sec)\n",
            "INFO:tensorflow:global_step/sec: 526.42\n",
            "INFO:tensorflow:loss = 0.98360586, step = 2500 (0.193 sec)\n",
            "INFO:tensorflow:global_step/sec: 520.08\n",
            "INFO:tensorflow:loss = 0.9752181, step = 2600 (0.189 sec)\n",
            "INFO:tensorflow:global_step/sec: 485.443\n",
            "INFO:tensorflow:loss = 0.9741031, step = 2700 (0.208 sec)\n",
            "INFO:tensorflow:global_step/sec: 508.213\n",
            "INFO:tensorflow:loss = 0.9586652, step = 2800 (0.197 sec)\n",
            "INFO:tensorflow:global_step/sec: 480.828\n",
            "INFO:tensorflow:loss = 0.9584774, step = 2900 (0.208 sec)\n",
            "INFO:tensorflow:global_step/sec: 505.203\n",
            "INFO:tensorflow:loss = 0.95804393, step = 3000 (0.197 sec)\n",
            "INFO:tensorflow:global_step/sec: 522.682\n",
            "INFO:tensorflow:loss = 0.95460945, step = 3100 (0.192 sec)\n",
            "INFO:tensorflow:global_step/sec: 485.574\n",
            "INFO:tensorflow:loss = 0.94417685, step = 3200 (0.206 sec)\n",
            "INFO:tensorflow:global_step/sec: 511.923\n",
            "INFO:tensorflow:loss = 0.9343096, step = 3300 (0.193 sec)\n",
            "INFO:tensorflow:global_step/sec: 482.412\n",
            "INFO:tensorflow:loss = 0.9388242, step = 3400 (0.207 sec)\n",
            "INFO:tensorflow:global_step/sec: 474.64\n",
            "INFO:tensorflow:loss = 0.93000066, step = 3500 (0.214 sec)\n",
            "INFO:tensorflow:global_step/sec: 479.508\n",
            "INFO:tensorflow:loss = 0.921124, step = 3600 (0.205 sec)\n",
            "INFO:tensorflow:global_step/sec: 483.585\n",
            "INFO:tensorflow:loss = 0.919188, step = 3700 (0.210 sec)\n",
            "INFO:tensorflow:global_step/sec: 454.305\n",
            "INFO:tensorflow:loss = 0.9030838, step = 3800 (0.219 sec)\n",
            "INFO:tensorflow:global_step/sec: 397.884\n",
            "INFO:tensorflow:loss = 0.90517, step = 3900 (0.254 sec)\n",
            "INFO:tensorflow:global_step/sec: 436.56\n",
            "INFO:tensorflow:loss = 0.8945651, step = 4000 (0.225 sec)\n",
            "INFO:tensorflow:global_step/sec: 508.529\n",
            "INFO:tensorflow:loss = 0.89373523, step = 4100 (0.196 sec)\n",
            "INFO:tensorflow:global_step/sec: 505.46\n",
            "INFO:tensorflow:loss = 0.8852503, step = 4200 (0.201 sec)\n",
            "INFO:tensorflow:global_step/sec: 419.249\n",
            "INFO:tensorflow:loss = 0.874812, step = 4300 (0.241 sec)\n",
            "INFO:tensorflow:global_step/sec: 470.886\n",
            "INFO:tensorflow:loss = 0.87511456, step = 4400 (0.211 sec)\n",
            "INFO:tensorflow:global_step/sec: 421.054\n",
            "INFO:tensorflow:loss = 0.87418807, step = 4500 (0.236 sec)\n",
            "INFO:tensorflow:global_step/sec: 478.345\n",
            "INFO:tensorflow:loss = 0.8721173, step = 4600 (0.206 sec)\n",
            "INFO:tensorflow:global_step/sec: 479.955\n",
            "INFO:tensorflow:loss = 0.8588095, step = 4700 (0.211 sec)\n",
            "INFO:tensorflow:global_step/sec: 476.871\n",
            "INFO:tensorflow:loss = 0.85608345, step = 4800 (0.212 sec)\n",
            "INFO:tensorflow:global_step/sec: 442.843\n",
            "INFO:tensorflow:loss = 0.86254823, step = 4900 (0.220 sec)\n",
            "INFO:tensorflow:Calling checkpoint listeners before saving checkpoint 5000...\n",
            "INFO:tensorflow:Saving checkpoints for 5000 into /tmp/tmpey_gcth7/model.ckpt.\n",
            "INFO:tensorflow:Calling checkpoint listeners after saving checkpoint 5000...\n",
            "INFO:tensorflow:Loss for final step: 0.83752906.\n"
          ],
          "name": "stdout"
        },
        {
          "output_type": "execute_result",
          "data": {
            "text/plain": [
              "<tensorflow_estimator.python.estimator.canned.dnn.DNNClassifierV2 at 0x7fda62a41590>"
            ]
          },
          "metadata": {
            "tags": []
          },
          "execution_count": 11
        }
      ]
    },
    {
      "cell_type": "code",
      "metadata": {
        "colab": {
          "base_uri": "https://localhost:8080/"
        },
        "id": "40xZ9Db3ivbh",
        "outputId": "5ce89fd3-eb09-4af7-dff3-4ea58387f561"
      },
      "source": [
        "eval_result = classifier.evaluate(\n",
        "    input_fn=lambda: input_fn(test, test_y, training=False))\n",
        "\n",
        "print('\\nTest set accuracy: {accuracy:0.3f}\\n'.format(**eval_result))"
      ],
      "execution_count": 12,
      "outputs": [
        {
          "output_type": "stream",
          "text": [
            "INFO:tensorflow:Calling model_fn.\n",
            "INFO:tensorflow:Done calling model_fn.\n",
            "INFO:tensorflow:Starting evaluation at 2021-06-16T06:38:55\n",
            "INFO:tensorflow:Graph was finalized.\n",
            "INFO:tensorflow:Restoring parameters from /tmp/tmpey_gcth7/model.ckpt-5000\n",
            "INFO:tensorflow:Running local_init_op.\n",
            "INFO:tensorflow:Done running local_init_op.\n",
            "INFO:tensorflow:Inference Time : 0.27274s\n",
            "INFO:tensorflow:Finished evaluation at 2021-06-16-06:38:55\n",
            "INFO:tensorflow:Saving dict for global step 5000: accuracy = 0.53333336, average_loss = 0.9100666, global_step = 5000, loss = 0.9100666\n",
            "INFO:tensorflow:Saving 'checkpoint_path' summary for global step 5000: /tmp/tmpey_gcth7/model.ckpt-5000\n",
            "\n",
            "Test set accuracy: 0.533\n",
            "\n"
          ],
          "name": "stdout"
        }
      ]
    },
    {
      "cell_type": "code",
      "metadata": {
        "colab": {
          "base_uri": "https://localhost:8080/"
        },
        "id": "ZDfd7tzBiz_f",
        "outputId": "dfc6a208-9e47-44fa-ed29-c2e7f2f34824"
      },
      "source": [
        "def input_fn(features, batch_size=256):\n",
        "    # Convert the inputs to a Dataset without labels.\n",
        "    return tf.data.Dataset.from_tensor_slices(dict(features)).batch(batch_size)\n",
        "\n",
        "features = ['SepalLength', 'SepalWidth', 'PetalLength', 'PetalWidth']\n",
        "predict = {}\n",
        "\n",
        "print(\"Please type numeric values as prompted.\")\n",
        "for feature in features:\n",
        "  valid = True\n",
        "  while valid: \n",
        "    val = input(feature + \": \")\n",
        "    if not val.isdigit(): valid = False\n",
        "\n",
        "  predict[feature] = [float(val)]\n",
        "\n",
        "predictions = classifier.predict(input_fn=lambda: input_fn(predict))\n",
        "for pred_dict in predictions:\n",
        "    class_id = pred_dict['class_ids'][0]\n",
        "    probability = pred_dict['probabilities'][class_id]\n",
        "\n",
        "    print('Prediction is \"{}\" ({:.1f}%)'.format(\n",
        "        SPECIES[class_id], 100 * probability))"
      ],
      "execution_count": 14,
      "outputs": [
        {
          "output_type": "stream",
          "text": [
            "Please type numeric values as prompted.\n",
            "SepalLength: 1.2\n",
            "SepalWidth: 1.5\n",
            "PetalLength: 5\n",
            "PetalLength: 5.2\n",
            "PetalWidth: 5.8\n",
            "INFO:tensorflow:Calling model_fn.\n",
            "INFO:tensorflow:Done calling model_fn.\n",
            "INFO:tensorflow:Graph was finalized.\n",
            "INFO:tensorflow:Restoring parameters from /tmp/tmpey_gcth7/model.ckpt-5000\n",
            "INFO:tensorflow:Running local_init_op.\n",
            "INFO:tensorflow:Done running local_init_op.\n",
            "Prediction is \"Virginica\" (37.4%)\n"
          ],
          "name": "stdout"
        }
      ]
    },
    {
      "cell_type": "code",
      "metadata": {
        "id": "7jza7Y3ei5I1"
      },
      "source": [
        "# Here is some example input and expected classes you can try above\n",
        "expected = ['Setosa', 'Versicolor', 'Virginica']\n",
        "predict_x = {\n",
        "    'SepalLength': [5.1, 5.9, 6.9],\n",
        "    'SepalWidth': [3.3, 3.0, 3.1],\n",
        "    'PetalLength': [1.7, 4.2, 5.4],\n",
        "    'PetalWidth': [0.5, 1.5, 2.1],\n",
        "}"
      ],
      "execution_count": 15,
      "outputs": []
    },
    {
      "cell_type": "code",
      "metadata": {
        "id": "q0ceMiIcjHaX"
      },
      "source": [
        ""
      ],
      "execution_count": null,
      "outputs": []
    }
  ]
}